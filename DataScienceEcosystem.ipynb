{
 "cells": [
  {
   "cell_type": "markdown",
   "id": "d0d943ea",
   "metadata": {},
   "source": [
    "# Data Science Tools and Ecosystem"
   ]
  },
  {
   "cell_type": "markdown",
   "id": "5d0ab390",
   "metadata": {},
   "source": [
    "In this Jupyter notebook, I have summarized the topics Data Science Tools and Ecosystem."
   ]
  },
  {
   "cell_type": "markdown",
   "id": "a2057a86",
   "metadata": {},
   "source": [
    "Some of the popular coding languages used by data scientists are:\n",
    "1. R\n",
    "2. Python\n",
    "3. MATLAB\n",
    "4. Scala\n",
    "5. Julia\n",
    "6. SQL\n",
    "and many more"
   ]
  },
  {
   "cell_type": "markdown",
   "id": "6e9a2cea",
   "metadata": {},
   "source": [
    "Some of the most commonly used libraries are:\n",
    "- Pandas\n",
    "- Numpy\n",
    "- Matplotlib\n",
    "- TensorFlow\n",
    "- PyTorch\n",
    "- SciPy"
   ]
  },
  {
   "cell_type": "markdown",
   "id": "d1100efa",
   "metadata": {},
   "source": [
    "| Data Science Tools |\n",
    "| --- | \n",
    "| Apache Spark |\n",
    "| TensorFlow |\n",
    "| Apache Hadoop |"
   ]
  },
  {
   "cell_type": "markdown",
   "id": "414cba3b",
   "metadata": {},
   "source": [
    "### Below are a few examples of evaluating arithmetic expressions in Python"
   ]
  },
  {
   "cell_type": "code",
   "execution_count": 1,
   "id": "5405f1da",
   "metadata": {},
   "outputs": [
    {
     "data": {
      "text/plain": [
       "17"
      ]
     },
     "execution_count": 1,
     "metadata": {},
     "output_type": "execute_result"
    }
   ],
   "source": [
    "# This a simple arithmetic expression showing addition and multiplication.\n",
    "(3*4)+5 "
   ]
  },
  {
   "cell_type": "code",
   "execution_count": 4,
   "id": "b77446e5",
   "metadata": {},
   "outputs": [
    {
     "data": {
      "text/plain": [
       "3.3333333333333335"
      ]
     },
     "execution_count": 4,
     "metadata": {},
     "output_type": "execute_result"
    }
   ],
   "source": [
    "#This converts 200 minutes to hours by diving by 60\n",
    "200/60 "
   ]
  },
  {
   "cell_type": "markdown",
   "id": "75182908",
   "metadata": {},
   "source": [
    "**OBJECTIVES:**\n",
    "- Popular coding languages used for data science\n",
    "- Commonly used libraries in data science\n",
    "- Various data science tools\n",
    "- Difference between markdown cells and coding cells\n",
    "- Using different fonts and heading sizes"
   ]
  },
  {
   "cell_type": "markdown",
   "id": "34b5a02e",
   "metadata": {},
   "source": [
    "## Author\n",
    "Preethi B"
   ]
  }
 ],
 "metadata": {
  "kernelspec": {
   "display_name": "Python 3 (ipykernel)",
   "language": "python",
   "name": "python3"
  },
  "language_info": {
   "codemirror_mode": {
    "name": "ipython",
    "version": 3
   },
   "file_extension": ".py",
   "mimetype": "text/x-python",
   "name": "python",
   "nbconvert_exporter": "python",
   "pygments_lexer": "ipython3",
   "version": "3.9.12"
  }
 },
 "nbformat": 4,
 "nbformat_minor": 5
}
